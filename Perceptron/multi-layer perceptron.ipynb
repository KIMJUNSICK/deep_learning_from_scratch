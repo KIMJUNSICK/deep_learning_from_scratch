{
 "cells": [
  {
   "cell_type": "code",
   "execution_count": 5,
   "metadata": {},
   "outputs": [
    {
     "data": {
      "text/plain": [
       "1"
      ]
     },
     "execution_count": 5,
     "metadata": {},
     "output_type": "execute_result"
    }
   ],
   "source": [
    "import numpy as np\n",
    "\n",
    "def AND(x1, x2):\n",
    "    b=-0.7\n",
    "    w=np.array([0.5, 0.5])\n",
    "    x=np.array([x1, x2])\n",
    "    tmp=np.sum(w*x)+b\n",
    "    \n",
    "    if tmp > 0:\n",
    "        return 1\n",
    "    else:\n",
    "        return 0\n",
    "    \n",
    "def NAND(x1, x2):\n",
    "    b=-0.7\n",
    "    w=np.array([0.5,0.5])\n",
    "    x=np.array([x1,x2])\n",
    "    tmp=b+np.sum(w*x)\n",
    "    \n",
    "    if tmp > 0:\n",
    "        return 0\n",
    "    else:\n",
    "        return 1\n",
    "    \n",
    "def OR(x1, x2):\n",
    "    b=-0.4\n",
    "    w=np.array([0.5,0.5])\n",
    "    x=np.array([x1,x2])\n",
    "    tmp=b+np.sum(w*x)\n",
    "    \n",
    "    if tmp <= 0:\n",
    "        return 0\n",
    "    else:\n",
    "        return 1\n",
    "\n",
    "def XOR(x1, x2):\n",
    "    s1=NAND(x1,x2)\n",
    "    s2=OR(x1,x2)\n",
    "    y=AND(s1,s2)\n",
    "    \n",
    "    return y\n",
    "\n",
    "XOR(1,1)\n",
    "XOR(0,0)\n",
    "XOR(0,1)\n",
    "XOR(1,0)"
   ]
  }
 ],
 "metadata": {
  "kernelspec": {
   "display_name": "Python 3",
   "language": "python",
   "name": "python3"
  },
  "language_info": {
   "codemirror_mode": {
    "name": "ipython",
    "version": 3
   },
   "file_extension": ".py",
   "mimetype": "text/x-python",
   "name": "python",
   "nbconvert_exporter": "python",
   "pygments_lexer": "ipython3",
   "version": "3.8.3"
  }
 },
 "nbformat": 4,
 "nbformat_minor": 4
}
