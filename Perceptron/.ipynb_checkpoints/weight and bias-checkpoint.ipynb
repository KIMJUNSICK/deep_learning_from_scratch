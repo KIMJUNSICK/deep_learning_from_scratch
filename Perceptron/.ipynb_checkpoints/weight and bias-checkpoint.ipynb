{
 "cells": [
  {
   "cell_type": "code",
   "execution_count": 2,
   "metadata": {},
   "outputs": [
    {
     "data": {
      "text/plain": [
       "-0.19999999999999996"
      ]
     },
     "execution_count": 2,
     "metadata": {},
     "output_type": "execute_result"
    }
   ],
   "source": [
    "import numpy as mp\n",
    "x=np.array([0, 1])\n",
    "w=np.array([0.5, 0.5])\n",
    "b=-0.7\n",
    "\n",
    "np.sum(x*w) + b \n",
    "\n",
    "# w1x1+w2x2+b < 0"
   ]
  },
  {
   "cell_type": "code",
   "execution_count": 20,
   "metadata": {},
   "outputs": [
    {
     "data": {
      "text/plain": [
       "0"
      ]
     },
     "execution_count": 20,
     "metadata": {},
     "output_type": "execute_result"
    }
   ],
   "source": [
    "def AND(x1, x2):\n",
    "    b=-0.7\n",
    "    w=np.array([0.5, 0.5])\n",
    "    x=np.array([x1, x2])\n",
    "    tmp=np.sum(w*x)+b\n",
    "    \n",
    "    if tmp > 0:\n",
    "        return 1\n",
    "    else:\n",
    "        return 0\n",
    "\n",
    "AND(1,1)\n",
    "AND(1,0)\n",
    "AND(0,1)\n",
    "AND(0,0)"
   ]
  },
  {
   "cell_type": "code",
   "execution_count": 24,
   "metadata": {},
   "outputs": [
    {
     "data": {
      "text/plain": [
       "0"
      ]
     },
     "execution_count": 24,
     "metadata": {},
     "output_type": "execute_result"
    }
   ],
   "source": [
    "def NAND(x1, x2):\n",
    "    b=-0.7\n",
    "    w=np.array([0.5,0.5])\n",
    "    x=np.array([x1,x2])\n",
    "    tmp=b+np.sum(w*x)\n",
    "    \n",
    "    if tmp > 0:\n",
    "        return 0\n",
    "    else:\n",
    "        return 1\n",
    "    \n",
    "NAND(0,0)\n",
    "NAND(0,1)\n",
    "NAND(1,0)\n",
    "NAND(1,1)"
   ]
  },
  {
   "cell_type": "code",
   "execution_count": 33,
   "metadata": {},
   "outputs": [
    {
     "data": {
      "text/plain": [
       "1"
      ]
     },
     "execution_count": 33,
     "metadata": {},
     "output_type": "execute_result"
    }
   ],
   "source": [
    "def OR(x1, x2):\n",
    "    b=-0.4\n",
    "    w=np.array([0.5,0.5])\n",
    "    x=np.array([x1,x2])\n",
    "    tmp=b+np.sum(w*x)\n",
    "    \n",
    "    if tmp <= 0:\n",
    "        return 0\n",
    "    else:\n",
    "        return 1\n",
    "    \n",
    "OR(0,0)\n",
    "OR(1,0)\n",
    "OR(0,1)\n",
    "OR(1,1)"
   ]
  },
  {
   "cell_type": "code",
   "execution_count": null,
   "metadata": {},
   "outputs": [],
   "source": []
  }
 ],
 "metadata": {
  "kernelspec": {
   "display_name": "Python 3",
   "language": "python",
   "name": "python3"
  },
  "language_info": {
   "codemirror_mode": {
    "name": "ipython",
    "version": 3
   },
   "file_extension": ".py",
   "mimetype": "text/x-python",
   "name": "python",
   "nbconvert_exporter": "python",
   "pygments_lexer": "ipython3",
   "version": "3.8.3"
  }
 },
 "nbformat": 4,
 "nbformat_minor": 4
}
