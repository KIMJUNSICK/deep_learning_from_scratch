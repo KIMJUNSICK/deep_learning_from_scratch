{
 "cells": [
  {
   "cell_type": "code",
   "execution_count": 6,
   "metadata": {},
   "outputs": [
    {
     "name": "stdout",
     "output_type": "stream",
     "text": [
      "[1 2 3]\n"
     ]
    },
    {
     "data": {
      "text/plain": [
       "numpy.ndarray"
      ]
     },
     "execution_count": 6,
     "metadata": {},
     "output_type": "execute_result"
    }
   ],
   "source": [
    "import numpy as np\n",
    "\n",
    "x = np.array([1,2,3])\n",
    "\n",
    "print(x)\n",
    "\n",
    "type(x)"
   ]
  },
  {
   "cell_type": "code",
   "execution_count": 11,
   "metadata": {},
   "outputs": [
    {
     "name": "stdout",
     "output_type": "stream",
     "text": [
      "[2 4 6]\n",
      "[0 0 0]\n",
      "[1. 1. 1.]\n"
     ]
    }
   ],
   "source": [
    "y = np.array([1,2,3])\n",
    "\n",
    "print(x + y)\n",
    "print(x - y)\n",
    "print(x/y)\n"
   ]
  },
  {
   "cell_type": "code",
   "execution_count": 20,
   "metadata": {},
   "outputs": [
    {
     "name": "stdout",
     "output_type": "stream",
     "text": [
      "[[ 6  8]\n",
      " [10 12]]\n",
      "[[ 5 12]\n",
      " [21 32]]\n",
      "[[10 20]\n",
      " [30 40]]\n",
      "[[10 40]\n",
      " [30 80]]\n"
     ]
    }
   ],
   "source": [
    "# matrix\n",
    "A = np.array([[1,2],[3,4]])\n",
    "A\n",
    "\n",
    "B = np.array([[5,6],[7,8]])\n",
    "B\n",
    "\n",
    "print(A + B)\n",
    "print(A * B)\n",
    "\n",
    "# broadcast\n",
    "print(A*10)\n",
    "print(A*[10,20])"
   ]
  },
  {
   "cell_type": "code",
   "execution_count": 21,
   "metadata": {},
   "outputs": [
    {
     "name": "stdout",
     "output_type": "stream",
     "text": [
      "[1 2]\n",
      "[3 4]\n"
     ]
    },
    {
     "data": {
      "text/plain": [
       "array([3, 4])"
      ]
     },
     "execution_count": 21,
     "metadata": {},
     "output_type": "execute_result"
    }
   ],
   "source": [
    "# approach elements\n",
    "A = np.array([[1,2],[3,4]])\n",
    "\n",
    "for row in A:\n",
    "    print(row)\n",
    "    \n",
    "A.flatten()\n",
    "\n",
    "A > 3\n",
    "\n",
    "A[A > 2]"
   ]
  }
 ],
 "metadata": {
  "kernelspec": {
   "display_name": "Python 3",
   "language": "python",
   "name": "python3"
  },
  "language_info": {
   "codemirror_mode": {
    "name": "ipython",
    "version": 3
   },
   "file_extension": ".py",
   "mimetype": "text/x-python",
   "name": "python",
   "nbconvert_exporter": "python",
   "pygments_lexer": "ipython3",
   "version": "3.8.3"
  }
 },
 "nbformat": 4,
 "nbformat_minor": 4
}
